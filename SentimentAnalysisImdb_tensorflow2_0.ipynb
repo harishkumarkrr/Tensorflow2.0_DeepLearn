{
  "nbformat": 4,
  "nbformat_minor": 0,
  "metadata": {
    "colab": {
      "name": "SentimentAnalysisImdb_tensorflow2.0.ipynb",
      "provenance": [],
      "collapsed_sections": [],
      "include_colab_link": true
    },
    "kernelspec": {
      "name": "python3",
      "display_name": "Python 3"
    }
  },
  "cells": [
    {
      "cell_type": "markdown",
      "metadata": {
        "id": "view-in-github",
        "colab_type": "text"
      },
      "source": [
        "<a href=\"https://colab.research.google.com/github/harishkumarkrr/Tensorflow2.0_DeepLearn/blob/master/SentimentAnalysisImdb_tensorflow2_0.ipynb\" target=\"_parent\"><img src=\"https://colab.research.google.com/assets/colab-badge.svg\" alt=\"Open In Colab\"/></a>"
      ]
    },
    {
      "cell_type": "code",
      "metadata": {
        "id": "5klQ7zAlKIXm",
        "colab_type": "code",
        "colab": {}
      },
      "source": [
        "import tensorflow as tf\n",
        "from tensorflow import keras\n",
        "import matplotlib.pyplot as plt\n",
        "import pandas as pd\n",
        "import numpy as np\n",
        "from tensorflow.keras.datasets import imdb\n",
        "from tensorflow.keras.preprocessing.sequence import pad_sequences\n",
        "from tensorflow.keras import Sequential\n",
        "from tensorflow.keras.layers import LSTM, Dropout, Dense, Embedding\n"
      ],
      "execution_count": 0,
      "outputs": []
    },
    {
      "cell_type": "code",
      "metadata": {
        "id": "LqZPqoVTLI0R",
        "colab_type": "code",
        "colab": {}
      },
      "source": [
        "(x_train,y_train),(x_test,y_test)=imdb.load_data(num_words=20000)"
      ],
      "execution_count": 0,
      "outputs": []
    },
    {
      "cell_type": "code",
      "metadata": {
        "id": "Xx8pcEZSS32-",
        "colab_type": "code",
        "outputId": "fe39f167-16ce-43d9-ab81-a11e7d0fa7fd",
        "colab": {
          "base_uri": "https://localhost:8080/",
          "height": 54
        }
      },
      "source": [
        "print(x_train[0])"
      ],
      "execution_count": 64,
      "outputs": [
        {
          "output_type": "stream",
          "text": [
            "[1, 14, 22, 16, 43, 530, 973, 1622, 1385, 65, 458, 4468, 66, 3941, 4, 173, 36, 256, 5, 25, 100, 43, 838, 112, 50, 670, 2, 9, 35, 480, 284, 5, 150, 4, 172, 112, 167, 2, 336, 385, 39, 4, 172, 4536, 1111, 17, 546, 38, 13, 447, 4, 192, 50, 16, 6, 147, 2025, 19, 14, 22, 4, 1920, 4613, 469, 4, 22, 71, 87, 12, 16, 43, 530, 38, 76, 15, 13, 1247, 4, 22, 17, 515, 17, 12, 16, 626, 18, 19193, 5, 62, 386, 12, 8, 316, 8, 106, 5, 4, 2223, 5244, 16, 480, 66, 3785, 33, 4, 130, 12, 16, 38, 619, 5, 25, 124, 51, 36, 135, 48, 25, 1415, 33, 6, 22, 12, 215, 28, 77, 52, 5, 14, 407, 16, 82, 10311, 8, 4, 107, 117, 5952, 15, 256, 4, 2, 7, 3766, 5, 723, 36, 71, 43, 530, 476, 26, 400, 317, 46, 7, 4, 12118, 1029, 13, 104, 88, 4, 381, 15, 297, 98, 32, 2071, 56, 26, 141, 6, 194, 7486, 18, 4, 226, 22, 21, 134, 476, 26, 480, 5, 144, 30, 5535, 18, 51, 36, 28, 224, 92, 25, 104, 4, 226, 65, 16, 38, 1334, 88, 12, 16, 283, 5, 16, 4472, 113, 103, 32, 15, 16, 5345, 19, 178, 32]\n"
          ],
          "name": "stdout"
        }
      ]
    },
    {
      "cell_type": "code",
      "metadata": {
        "id": "zlYMg6PgS44a",
        "colab_type": "code",
        "colab": {}
      },
      "source": [
        "x_train=pad_sequences(x_train,maxlen=100)\n",
        "x_test=pad_sequences(x_test,maxlen=100)"
      ],
      "execution_count": 0,
      "outputs": []
    },
    {
      "cell_type": "code",
      "metadata": {
        "id": "MxaQQqdAUGfr",
        "colab_type": "code",
        "outputId": "a5d69dd9-81f1-4648-9987-7fcbdbe5deec",
        "colab": {
          "base_uri": "https://localhost:8080/",
          "height": 136
        }
      },
      "source": [
        "print(x_test)"
      ],
      "execution_count": 66,
      "outputs": [
        {
          "output_type": "stream",
          "text": [
            "[[   0    0    0 ...   14    6  717]\n",
            " [   6  976 2078 ...  125    4 3077]\n",
            " [   4 5673    7 ...    9   57  975]\n",
            " ...\n",
            " [   0    0    0 ...   21  846 5518]\n",
            " [   0    1   11 ... 2302    7  470]\n",
            " [  56   96  346 ...   34 2005 2643]]\n"
          ],
          "name": "stdout"
        }
      ]
    },
    {
      "cell_type": "code",
      "metadata": {
        "id": "6tKatMpgUqpN",
        "colab_type": "code",
        "outputId": "886e1cbf-01c4-426e-e7ea-4694a82e6f99",
        "colab": {
          "base_uri": "https://localhost:8080/",
          "height": 34
        }
      },
      "source": [
        "x_train.shape"
      ],
      "execution_count": 67,
      "outputs": [
        {
          "output_type": "execute_result",
          "data": {
            "text/plain": [
              "(25000, 100)"
            ]
          },
          "metadata": {
            "tags": []
          },
          "execution_count": 67
        }
      ]
    },
    {
      "cell_type": "code",
      "metadata": {
        "id": "1p4N5AGnVGel",
        "colab_type": "code",
        "outputId": "cecacd2c-fbc8-4a50-a832-d9d65556bbe4",
        "colab": {
          "base_uri": "https://localhost:8080/",
          "height": 34
        }
      },
      "source": [
        "x_test.shape"
      ],
      "execution_count": 68,
      "outputs": [
        {
          "output_type": "execute_result",
          "data": {
            "text/plain": [
              "(25000, 100)"
            ]
          },
          "metadata": {
            "tags": []
          },
          "execution_count": 68
        }
      ]
    },
    {
      "cell_type": "code",
      "metadata": {
        "id": "bWFeAutSXpO0",
        "colab_type": "code",
        "colab": {}
      },
      "source": [
        "vocab_size=20000\n",
        "embed_size=128"
      ],
      "execution_count": 0,
      "outputs": []
    },
    {
      "cell_type": "code",
      "metadata": {
        "id": "VAi8V1CZanQf",
        "colab_type": "code",
        "colab": {}
      },
      "source": [
        "model=Sequential()\n",
        "model.add(Embedding(vocab_size,embed_size, input_shape=(x_train.shape[1],)))\n",
        "model.add(LSTM(units=60, activation='tanh'))\n",
        "model.add(Dense(units=1, activation='sigmoid'))\n",
        "model.compile(optimizer='adam',loss='binary_crossentropy',metrics=['accuracy'])"
      ],
      "execution_count": 0,
      "outputs": []
    },
    {
      "cell_type": "code",
      "metadata": {
        "id": "8gpimjjRaqq3",
        "colab_type": "code",
        "colab": {}
      },
      "source": [
        ""
      ],
      "execution_count": 0,
      "outputs": []
    },
    {
      "cell_type": "code",
      "metadata": {
        "id": "UiQkrYCodKH1",
        "colab_type": "code",
        "outputId": "86ac5bd1-606f-4369-934d-937a2cdbabde",
        "colab": {
          "base_uri": "https://localhost:8080/",
          "height": 255
        }
      },
      "source": [
        "model.summary()"
      ],
      "execution_count": 81,
      "outputs": [
        {
          "output_type": "stream",
          "text": [
            "Model: \"sequential_10\"\n",
            "_________________________________________________________________\n",
            "Layer (type)                 Output Shape              Param #   \n",
            "=================================================================\n",
            "embedding_9 (Embedding)      (None, 100, 128)          2560000   \n",
            "_________________________________________________________________\n",
            "lstm_6 (LSTM)                (None, 60)                45360     \n",
            "_________________________________________________________________\n",
            "dense_4 (Dense)              (None, 1)                 61        \n",
            "=================================================================\n",
            "Total params: 2,605,421\n",
            "Trainable params: 2,605,421\n",
            "Non-trainable params: 0\n",
            "_________________________________________________________________\n"
          ],
          "name": "stdout"
        }
      ]
    },
    {
      "cell_type": "code",
      "metadata": {
        "id": "H7TceS_kdb9p",
        "colab_type": "code",
        "colab": {
          "base_uri": "https://localhost:8080/",
          "height": 238
        },
        "outputId": "844062dd-2a97-4f02-90db-ad402abdfe30"
      },
      "source": [
        "history=model.fit(x_train, y_test, epochs=6, batch_size=128, validation_data=(x_test,y_test))"
      ],
      "execution_count": 86,
      "outputs": [
        {
          "output_type": "stream",
          "text": [
            "Train on 25000 samples, validate on 25000 samples\n",
            "Epoch 1/6\n",
            "25000/25000 [==============================] - 64s 3ms/sample - loss: 0.1007 - accuracy: 0.9632 - val_loss: 2.0135 - val_accuracy: 0.5063\n",
            "Epoch 2/6\n",
            "25000/25000 [==============================] - 64s 3ms/sample - loss: 0.0578 - accuracy: 0.9810 - val_loss: 2.3112 - val_accuracy: 0.5013\n",
            "Epoch 3/6\n",
            "25000/25000 [==============================] - 64s 3ms/sample - loss: 0.0367 - accuracy: 0.9885 - val_loss: 2.6496 - val_accuracy: 0.5045\n",
            "Epoch 4/6\n",
            "25000/25000 [==============================] - 65s 3ms/sample - loss: 0.0267 - accuracy: 0.9927 - val_loss: 2.7327 - val_accuracy: 0.5032\n",
            "Epoch 5/6\n",
            "25000/25000 [==============================] - 65s 3ms/sample - loss: 0.0246 - accuracy: 0.9925 - val_loss: 3.0073 - val_accuracy: 0.4998\n",
            "Epoch 6/6\n",
            "25000/25000 [==============================] - 65s 3ms/sample - loss: 0.0199 - accuracy: 0.9934 - val_loss: 3.0322 - val_accuracy: 0.5066\n"
          ],
          "name": "stdout"
        }
      ]
    },
    {
      "cell_type": "code",
      "metadata": {
        "id": "oMjyhU6fjouu",
        "colab_type": "code",
        "colab": {
          "base_uri": "https://localhost:8080/",
          "height": 255
        },
        "outputId": "fdecb5ba-a325-4b70-b344-e21b43d30723"
      },
      "source": [
        "history.history"
      ],
      "execution_count": 89,
      "outputs": [
        {
          "output_type": "execute_result",
          "data": {
            "text/plain": [
              "{'accuracy': [0.96324, 0.981, 0.98852, 0.99268, 0.99248, 0.99336],\n",
              " 'loss': [0.10074569579064846,\n",
              "  0.05782857698976993,\n",
              "  0.036709977316856386,\n",
              "  0.02673081932783127,\n",
              "  0.02462934462726116,\n",
              "  0.019869834605157375],\n",
              " 'val_accuracy': [0.50632, 0.50128, 0.50448, 0.5032, 0.49976, 0.50664],\n",
              " 'val_loss': [2.0134897024536134,\n",
              "  2.3112221771240233,\n",
              "  2.649630238876343,\n",
              "  2.732661185913086,\n",
              "  3.007310888900757,\n",
              "  3.0321502275848387]}"
            ]
          },
          "metadata": {
            "tags": []
          },
          "execution_count": 89
        }
      ]
    },
    {
      "cell_type": "code",
      "metadata": {
        "id": "kYP6F_59miti",
        "colab_type": "code",
        "colab": {}
      },
      "source": [
        "rand_review=np.random.randint(10000, size=100)"
      ],
      "execution_count": 0,
      "outputs": []
    },
    {
      "cell_type": "code",
      "metadata": {
        "id": "Ts4xlZ-Yndra",
        "colab_type": "code",
        "colab": {}
      },
      "source": [
        "x_test=np.append(x_test, [rand_review], axis=0)"
      ],
      "execution_count": 0,
      "outputs": []
    },
    {
      "cell_type": "code",
      "metadata": {
        "id": "BZBL5GGFqoIo",
        "colab_type": "code",
        "colab": {
          "base_uri": "https://localhost:8080/",
          "height": 136
        },
        "outputId": "fb6a499b-fd8f-4d05-d784-04291370f725"
      },
      "source": [
        "model.predict(x_test)\n"
      ],
      "execution_count": 114,
      "outputs": [
        {
          "output_type": "execute_result",
          "data": {
            "text/plain": [
              "array([[5.9425831e-05],\n",
              "       [3.1312674e-01],\n",
              "       [9.9995154e-01],\n",
              "       ...,\n",
              "       [5.5805949e-06],\n",
              "       [5.5805949e-06],\n",
              "       [5.5806004e-06]], dtype=float32)"
            ]
          },
          "metadata": {
            "tags": []
          },
          "execution_count": 114
        }
      ]
    }
  ]
}