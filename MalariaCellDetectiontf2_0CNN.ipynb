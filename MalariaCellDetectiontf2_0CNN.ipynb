{
  "nbformat": 4,
  "nbformat_minor": 0,
  "metadata": {
    "colab": {
      "name": "MalariaCellDetectiontf2.0CNN.ipynb",
      "provenance": [],
      "include_colab_link": true
    },
    "kernelspec": {
      "name": "python3",
      "display_name": "Python 3"
    },
    "accelerator": "GPU"
  },
  "cells": [
    {
      "cell_type": "markdown",
      "metadata": {
        "id": "view-in-github",
        "colab_type": "text"
      },
      "source": [
        "<a href=\"https://colab.research.google.com/github/harishkumarkrr/Tensorflow2.0_DeepLearn/blob/master/MalariaCellDetectiontf2_0CNN.ipynb\" target=\"_parent\"><img src=\"https://colab.research.google.com/assets/colab-badge.svg\" alt=\"Open In Colab\"/></a>"
      ]
    },
    {
      "cell_type": "code",
      "metadata": {
        "id": "sqMN2ZFACSQx",
        "colab_type": "code",
        "colab": {}
      },
      "source": [
        "# import json"
      ],
      "execution_count": 0,
      "outputs": []
    },
    {
      "cell_type": "code",
      "metadata": {
        "id": "9aJFnblRdGnt",
        "colab_type": "code",
        "colab": {}
      },
      "source": [
        "# token={\"username\":\"harishkumarkrr\",\"key\":\"*******************236e920584e06e799a\"}"
      ],
      "execution_count": 0,
      "outputs": []
    },
    {
      "cell_type": "code",
      "metadata": {
        "id": "m8C-cDTmdJyQ",
        "colab_type": "code",
        "colab": {}
      },
      "source": [
        "# with open(\"kaggle.json\", 'w') as file:\n",
        "  # json.dump(token,file)"
      ],
      "execution_count": 0,
      "outputs": []
    },
    {
      "cell_type": "code",
      "metadata": {
        "id": "phLdSH8FdYki",
        "colab_type": "code",
        "colab": {}
      },
      "source": [
        "# !mkdir -p ~/.kaggle"
      ],
      "execution_count": 0,
      "outputs": []
    },
    {
      "cell_type": "code",
      "metadata": {
        "id": "cptHPdAlgcdM",
        "colab_type": "code",
        "colab": {}
      },
      "source": [
        "# !cp kaggle.json /root/.kaggle/kaggle.json"
      ],
      "execution_count": 0,
      "outputs": []
    },
    {
      "cell_type": "code",
      "metadata": {
        "id": "m2DoZWgGgykb",
        "colab_type": "code",
        "colab": {}
      },
      "source": [
        "# !kaggle datasets download -d iarunava/cell-images-for-detecting-malaria"
      ],
      "execution_count": 0,
      "outputs": []
    },
    {
      "cell_type": "code",
      "metadata": {
        "id": "Z2qA97uQhI2W",
        "colab_type": "code",
        "colab": {}
      },
      "source": [
        "# !unzip cell-images-for-detecting-malaria.zip"
      ],
      "execution_count": 0,
      "outputs": []
    },
    {
      "cell_type": "code",
      "metadata": {
        "id": "foLaOhXvj2p5",
        "colab_type": "code",
        "colab": {}
      },
      "source": [
        "# !pip install tensorflow==2.0"
      ],
      "execution_count": 0,
      "outputs": []
    },
    {
      "cell_type": "code",
      "metadata": {
        "id": "VXI7mHSvrvL0",
        "colab_type": "code",
        "colab": {}
      },
      "source": [
        "import tensorflow as tf\n",
        "from tensorflow.keras import Sequential\n",
        "from tensorflow.keras.layers import Flatten, Dense, Conv2D, MaxPool2D, Dropout\n",
        "from tensorflow.keras.preprocessing.image import ImageDataGenerator\n",
        "from tensorflow.keras import optimizers\n",
        "import numpy as np\n",
        "import matplotlib.pyplot as plt"
      ],
      "execution_count": 0,
      "outputs": []
    },
    {
      "cell_type": "code",
      "metadata": {
        "id": "qv_0EvYNsWvz",
        "colab_type": "code",
        "colab": {}
      },
      "source": [
        "img_height=64\n",
        "img_width=64"
      ],
      "execution_count": 0,
      "outputs": []
    },
    {
      "cell_type": "code",
      "metadata": {
        "id": "GQuOG5bxtiJp",
        "colab_type": "code",
        "colab": {}
      },
      "source": [
        "imggenerator=ImageDataGenerator(rescale=1/255.0,validation_split=0.2)"
      ],
      "execution_count": 0,
      "outputs": []
    },
    {
      "cell_type": "code",
      "metadata": {
        "id": "bjzz_2UMFMsi",
        "colab_type": "code",
        "outputId": "53dd63e7-9b01-4506-d894-a10f05f8a4ac",
        "colab": {
          "base_uri": "https://localhost:8080/",
          "height": 34
        }
      },
      "source": [
        "train_data=imggenerator.flow_from_directory(directory=\"/content/cell_images/cell_images\", target_size=(img_height,img_width),class_mode='binary',batch_size=16,subset=\"training\")"
      ],
      "execution_count": 68,
      "outputs": [
        {
          "output_type": "stream",
          "text": [
            "Found 22048 images belonging to 2 classes.\n"
          ],
          "name": "stdout"
        }
      ]
    },
    {
      "cell_type": "markdown",
      "metadata": {
        "id": "kD3iCWYtHm0Z",
        "colab_type": "text"
      },
      "source": [
        "imggenerator.flow_from_directory(directory=\"/content/cell_images/cell_images\", target_size=(img_height,img_width),class_mode='binary',batch_size=16,subset=\"training\")"
      ]
    },
    {
      "cell_type": "code",
      "metadata": {
        "id": "rGJ26DCuJuSt",
        "colab_type": "code",
        "colab": {
          "base_uri": "https://localhost:8080/",
          "height": 34
        },
        "outputId": "fd5ebd8c-3232-4a6e-da3a-533eef19c187"
      },
      "source": [
        "validation_data=imggenerator.flow_from_directory(directory=\"/content/cell_images/cell_images\", target_size=(img_height,img_width),class_mode='binary',batch_size=16,subset=\"validation\")"
      ],
      "execution_count": 69,
      "outputs": [
        {
          "output_type": "stream",
          "text": [
            "Found 5510 images belonging to 2 classes.\n"
          ],
          "name": "stdout"
        }
      ]
    },
    {
      "cell_type": "code",
      "metadata": {
        "id": "q6SxGcM9SiVn",
        "colab_type": "code",
        "colab": {
          "base_uri": "https://localhost:8080/",
          "height": 34
        },
        "outputId": "fe01cfac-6900-4395-a7dd-34d8bcd0d42a"
      },
      "source": [
        "predict_data=imggenerator.flow_from_directory(directory=\"/content/cell_images/cell_images\", target_size=(img_height,img_width),class_mode='binary',batch_size=16,subset=\"validation\")"
      ],
      "execution_count": 70,
      "outputs": [
        {
          "output_type": "stream",
          "text": [
            "Found 5510 images belonging to 2 classes.\n"
          ],
          "name": "stdout"
        }
      ]
    },
    {
      "cell_type": "code",
      "metadata": {
        "id": "k-gFtKlDKRM2",
        "colab_type": "code",
        "colab": {}
      },
      "source": [
        "model=Sequential()\n",
        "\n",
        "model.add(Conv2D(16, (3,3), input_shape=(img_height,img_width,3),activation='relu'))\n",
        "model.add(MaxPool2D(2,2))\n",
        "model.add(Dropout(0.2))\n",
        "\n",
        "model.add(Conv2D(32, (3,3), activation='relu'))\n",
        "model.add(MaxPool2D(2,2))\n",
        "model.add(Dropout(0.3))\n",
        "\n",
        "model.add(Flatten())\n",
        "model.add(Dense(64,activation='relu'))\n",
        "model.add(Dropout(0.5))\n",
        "model.add(Dense(1,activation='sigmoid'))"
      ],
      "execution_count": 0,
      "outputs": []
    },
    {
      "cell_type": "code",
      "metadata": {
        "id": "FXWSOlCDQNtF",
        "colab_type": "code",
        "colab": {
          "base_uri": "https://localhost:8080/",
          "height": 493
        },
        "outputId": "e3964c93-5e90-4270-c5bb-8b228079eb27"
      },
      "source": [
        "model.summary()"
      ],
      "execution_count": 72,
      "outputs": [
        {
          "output_type": "stream",
          "text": [
            "Model: \"sequential_9\"\n",
            "_________________________________________________________________\n",
            "Layer (type)                 Output Shape              Param #   \n",
            "=================================================================\n",
            "conv2d_12 (Conv2D)           (None, 62, 62, 16)        448       \n",
            "_________________________________________________________________\n",
            "max_pooling2d_6 (MaxPooling2 (None, 31, 31, 16)        0         \n",
            "_________________________________________________________________\n",
            "dropout_9 (Dropout)          (None, 31, 31, 16)        0         \n",
            "_________________________________________________________________\n",
            "conv2d_13 (Conv2D)           (None, 29, 29, 32)        4640      \n",
            "_________________________________________________________________\n",
            "max_pooling2d_7 (MaxPooling2 (None, 14, 14, 32)        0         \n",
            "_________________________________________________________________\n",
            "dropout_10 (Dropout)         (None, 14, 14, 32)        0         \n",
            "_________________________________________________________________\n",
            "flatten_3 (Flatten)          (None, 6272)              0         \n",
            "_________________________________________________________________\n",
            "dense_6 (Dense)              (None, 64)                401472    \n",
            "_________________________________________________________________\n",
            "dropout_11 (Dropout)         (None, 64)                0         \n",
            "_________________________________________________________________\n",
            "dense_7 (Dense)              (None, 1)                 65        \n",
            "=================================================================\n",
            "Total params: 406,625\n",
            "Trainable params: 406,625\n",
            "Non-trainable params: 0\n",
            "_________________________________________________________________\n"
          ],
          "name": "stdout"
        }
      ]
    },
    {
      "cell_type": "code",
      "metadata": {
        "id": "ERCkJEmNQbMp",
        "colab_type": "code",
        "colab": {}
      },
      "source": [
        "model.compile(optimizer='adam', loss='binary_crossentropy', metrics=['accuracy'])"
      ],
      "execution_count": 0,
      "outputs": []
    },
    {
      "cell_type": "code",
      "metadata": {
        "id": "SLqX5Gg9Qv-9",
        "colab_type": "code",
        "colab": {
          "base_uri": "https://localhost:8080/",
          "height": 272
        },
        "outputId": "241cdbf3-9907-42cf-c063-fd5106976fd3"
      },
      "source": [
        "history=model.fit_generator(train_data,steps_per_epoch=len(train_data),epochs=5,validation_data=validation_data,validation_steps=len(validation_data))"
      ],
      "execution_count": 74,
      "outputs": [
        {
          "output_type": "stream",
          "text": [
            "Epoch 1/5\n",
            "1375/1378 [============================>.] - ETA: 0s - loss: 0.5372 - acc: 0.7374Epoch 1/5\n",
            "1378/1378 [==============================] - 29s 21ms/step - loss: 0.5364 - acc: 0.7379 - val_loss: 0.2741 - val_acc: 0.9143\n",
            "Epoch 2/5\n",
            "1377/1378 [============================>.] - ETA: 0s - loss: 0.2356 - acc: 0.9279Epoch 1/5\n",
            "1378/1378 [==============================] - 28s 21ms/step - loss: 0.2355 - acc: 0.9279 - val_loss: 0.1961 - val_acc: 0.9390\n",
            "Epoch 3/5\n",
            "1374/1378 [============================>.] - ETA: 0s - loss: 0.2040 - acc: 0.9373Epoch 1/5\n",
            "1378/1378 [==============================] - 28s 20ms/step - loss: 0.2042 - acc: 0.9373 - val_loss: 0.1871 - val_acc: 0.9341\n",
            "Epoch 4/5\n",
            "1375/1378 [============================>.] - ETA: 0s - loss: 0.1855 - acc: 0.9432Epoch 1/5\n",
            "1378/1378 [==============================] - 28s 20ms/step - loss: 0.1854 - acc: 0.9433 - val_loss: 0.1751 - val_acc: 0.9436\n",
            "Epoch 5/5\n",
            "1376/1378 [============================>.] - ETA: 0s - loss: 0.1777 - acc: 0.9475Epoch 1/5\n",
            "1378/1378 [==============================] - 28s 20ms/step - loss: 0.1774 - acc: 0.9476 - val_loss: 0.1983 - val_acc: 0.9345\n"
          ],
          "name": "stdout"
        }
      ]
    },
    {
      "cell_type": "code",
      "metadata": {
        "id": "h2WDdcKfVO8b",
        "colab_type": "code",
        "colab": {
          "base_uri": "https://localhost:8080/",
          "height": 221
        },
        "outputId": "8d0f25a5-f7e4-41ab-c70b-83069541744b"
      },
      "source": [
        "history.history"
      ],
      "execution_count": 80,
      "outputs": [
        {
          "output_type": "execute_result",
          "data": {
            "text/plain": [
              "{'acc': [0.73789006, 0.92793, 0.9372732, 0.94326013, 0.94756895],\n",
              " 'loss': [0.5363541811661381,\n",
              "  0.23549693581581937,\n",
              "  0.20416950997024644,\n",
              "  0.18536449991016551,\n",
              "  0.17744677634206865],\n",
              " 'val_acc': [0.9143376, 0.93902, 0.93411976, 0.94355714, 0.93448275],\n",
              " 'val_loss': [0.2740823553632135,\n",
              "  0.19605732622785846,\n",
              "  0.18708475686177828,\n",
              "  0.1751243460383536,\n",
              "  0.1982764116204951]}"
            ]
          },
          "metadata": {
            "tags": []
          },
          "execution_count": 80
        }
      ]
    },
    {
      "cell_type": "code",
      "metadata": {
        "id": "fO-qICRQR-Iz",
        "colab_type": "code",
        "colab": {}
      },
      "source": [
        "def plot_image(epochs,history):\n",
        "  epochs_range=range(1,epochs+1)\n",
        "  plt.plot(epochs_range,history.history['acc'])\n",
        "  plt.plot(epochs_range,history.history['val_acc'])\n",
        "  plt.show()"
      ],
      "execution_count": 0,
      "outputs": []
    },
    {
      "cell_type": "code",
      "metadata": {
        "id": "AqZC_YTFWdFY",
        "colab_type": "code",
        "colab": {
          "base_uri": "https://localhost:8080/",
          "height": 265
        },
        "outputId": "e47dddc5-005c-460c-c826-5b46ce32f23f"
      },
      "source": [
        "plot_image(5,history)"
      ],
      "execution_count": 86,
      "outputs": [
        {
          "output_type": "display_data",
          "data": {
            "image/png": "[encoded data removed]",
            "text/plain": [
              "<Figure size 432x288 with 1 Axes>"
            ]
          },
          "metadata": {
            "tags": []
          }
        }
      ]
    }
  ]
}
